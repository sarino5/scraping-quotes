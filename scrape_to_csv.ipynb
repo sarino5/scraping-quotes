{
 "cells": [
  {
   "cell_type": "code",
   "execution_count": 3,
   "metadata": {},
   "outputs": [
    {
     "name": "stdout",
     "output_type": "stream",
     "text": [
      "Now scraping http://quotes.toscrape.com/page/1...\n",
      "Now scraping http://quotes.toscrape.com/page/2/...\n",
      "Now scraping http://quotes.toscrape.com/page/3/...\n",
      "Now scraping http://quotes.toscrape.com/page/4/...\n",
      "Now scraping http://quotes.toscrape.com/page/5/...\n",
      "Now scraping http://quotes.toscrape.com/page/6/...\n",
      "Now scraping http://quotes.toscrape.com/page/7/...\n",
      "Now scraping http://quotes.toscrape.com/page/8/...\n",
      "Now scraping http://quotes.toscrape.com/page/9/...\n",
      "Now scraping http://quotes.toscrape.com/page/10/...\n"
     ]
    },
    {
     "ename": "UnicodeEncodeError",
     "evalue": "'charmap' codec can't encode character '\\u2032' in position 1: character maps to <undefined>",
     "output_type": "error",
     "traceback": [
      "\u001b[1;31m---------------------------------------------------------------------------\u001b[0m",
      "\u001b[1;31mUnicodeEncodeError\u001b[0m                        Traceback (most recent call last)",
      "\u001b[1;32m<ipython-input-3-8cc283f1bd9f>\u001b[0m in \u001b[0;36m<module>\u001b[1;34m\u001b[0m\n\u001b[0;32m     36\u001b[0m     \u001b[0mcsv_writer\u001b[0m\u001b[1;33m.\u001b[0m\u001b[0mwriteheader\u001b[0m\u001b[1;33m(\u001b[0m\u001b[1;33m)\u001b[0m\u001b[1;33m\u001b[0m\u001b[1;33m\u001b[0m\u001b[0m\n\u001b[0;32m     37\u001b[0m     \u001b[1;32mfor\u001b[0m \u001b[0mquote\u001b[0m \u001b[1;32min\u001b[0m \u001b[0mquotes\u001b[0m\u001b[1;33m:\u001b[0m\u001b[1;33m\u001b[0m\u001b[1;33m\u001b[0m\u001b[0m\n\u001b[1;32m---> 38\u001b[1;33m         \u001b[0mcsv_writer\u001b[0m\u001b[1;33m.\u001b[0m\u001b[0mwriterow\u001b[0m\u001b[1;33m(\u001b[0m\u001b[0mquote\u001b[0m\u001b[1;33m)\u001b[0m\u001b[1;33m\u001b[0m\u001b[1;33m\u001b[0m\u001b[0m\n\u001b[0m\u001b[0;32m     39\u001b[0m \u001b[1;33m\u001b[0m\u001b[0m\n",
      "\u001b[1;32m~\\anaconda3\\lib\\csv.py\u001b[0m in \u001b[0;36mwriterow\u001b[1;34m(self, rowdict)\u001b[0m\n\u001b[0;32m    152\u001b[0m \u001b[1;33m\u001b[0m\u001b[0m\n\u001b[0;32m    153\u001b[0m     \u001b[1;32mdef\u001b[0m \u001b[0mwriterow\u001b[0m\u001b[1;33m(\u001b[0m\u001b[0mself\u001b[0m\u001b[1;33m,\u001b[0m \u001b[0mrowdict\u001b[0m\u001b[1;33m)\u001b[0m\u001b[1;33m:\u001b[0m\u001b[1;33m\u001b[0m\u001b[1;33m\u001b[0m\u001b[0m\n\u001b[1;32m--> 154\u001b[1;33m         \u001b[1;32mreturn\u001b[0m \u001b[0mself\u001b[0m\u001b[1;33m.\u001b[0m\u001b[0mwriter\u001b[0m\u001b[1;33m.\u001b[0m\u001b[0mwriterow\u001b[0m\u001b[1;33m(\u001b[0m\u001b[0mself\u001b[0m\u001b[1;33m.\u001b[0m\u001b[0m_dict_to_list\u001b[0m\u001b[1;33m(\u001b[0m\u001b[0mrowdict\u001b[0m\u001b[1;33m)\u001b[0m\u001b[1;33m)\u001b[0m\u001b[1;33m\u001b[0m\u001b[1;33m\u001b[0m\u001b[0m\n\u001b[0m\u001b[0;32m    155\u001b[0m \u001b[1;33m\u001b[0m\u001b[0m\n\u001b[0;32m    156\u001b[0m     \u001b[1;32mdef\u001b[0m \u001b[0mwriterows\u001b[0m\u001b[1;33m(\u001b[0m\u001b[0mself\u001b[0m\u001b[1;33m,\u001b[0m \u001b[0mrowdicts\u001b[0m\u001b[1;33m)\u001b[0m\u001b[1;33m:\u001b[0m\u001b[1;33m\u001b[0m\u001b[1;33m\u001b[0m\u001b[0m\n",
      "\u001b[1;32m~\\anaconda3\\lib\\encodings\\cp1252.py\u001b[0m in \u001b[0;36mencode\u001b[1;34m(self, input, final)\u001b[0m\n\u001b[0;32m     17\u001b[0m \u001b[1;32mclass\u001b[0m \u001b[0mIncrementalEncoder\u001b[0m\u001b[1;33m(\u001b[0m\u001b[0mcodecs\u001b[0m\u001b[1;33m.\u001b[0m\u001b[0mIncrementalEncoder\u001b[0m\u001b[1;33m)\u001b[0m\u001b[1;33m:\u001b[0m\u001b[1;33m\u001b[0m\u001b[1;33m\u001b[0m\u001b[0m\n\u001b[0;32m     18\u001b[0m     \u001b[1;32mdef\u001b[0m \u001b[0mencode\u001b[0m\u001b[1;33m(\u001b[0m\u001b[0mself\u001b[0m\u001b[1;33m,\u001b[0m \u001b[0minput\u001b[0m\u001b[1;33m,\u001b[0m \u001b[0mfinal\u001b[0m\u001b[1;33m=\u001b[0m\u001b[1;32mFalse\u001b[0m\u001b[1;33m)\u001b[0m\u001b[1;33m:\u001b[0m\u001b[1;33m\u001b[0m\u001b[1;33m\u001b[0m\u001b[0m\n\u001b[1;32m---> 19\u001b[1;33m         \u001b[1;32mreturn\u001b[0m \u001b[0mcodecs\u001b[0m\u001b[1;33m.\u001b[0m\u001b[0mcharmap_encode\u001b[0m\u001b[1;33m(\u001b[0m\u001b[0minput\u001b[0m\u001b[1;33m,\u001b[0m\u001b[0mself\u001b[0m\u001b[1;33m.\u001b[0m\u001b[0merrors\u001b[0m\u001b[1;33m,\u001b[0m\u001b[0mencoding_table\u001b[0m\u001b[1;33m)\u001b[0m\u001b[1;33m[\u001b[0m\u001b[1;36m0\u001b[0m\u001b[1;33m]\u001b[0m\u001b[1;33m\u001b[0m\u001b[1;33m\u001b[0m\u001b[0m\n\u001b[0m\u001b[0;32m     20\u001b[0m \u001b[1;33m\u001b[0m\u001b[0m\n\u001b[0;32m     21\u001b[0m \u001b[1;32mclass\u001b[0m \u001b[0mIncrementalDecoder\u001b[0m\u001b[1;33m(\u001b[0m\u001b[0mcodecs\u001b[0m\u001b[1;33m.\u001b[0m\u001b[0mIncrementalDecoder\u001b[0m\u001b[1;33m)\u001b[0m\u001b[1;33m:\u001b[0m\u001b[1;33m\u001b[0m\u001b[1;33m\u001b[0m\u001b[0m\n",
      "\u001b[1;31mUnicodeEncodeError\u001b[0m: 'charmap' codec can't encode character '\\u2032' in position 1: character maps to <undefined>"
     ]
    }
   ],
   "source": [
    "import requests\n",
    "from bs4 import BeautifulSoup\n",
    "from time import sleep\n",
    "from random import choice\n",
    "from csv import DictWriter\n",
    "from csv import DictReader\n",
    "\n",
    "# http://quotes.toscrape.com\n",
    "base_url = \"http://quotes.toscrape.com\"\n",
    "\n",
    "def scrape_quotes():\n",
    "    all_quotes = []\n",
    "    url = \"/page/1\"\n",
    "    while url:\n",
    "        res = requests.get(f\"{base_url}{url}\")\n",
    "        print(f\"Now scraping {base_url}{url}...\")\n",
    "        soup = BeautifulSoup(res.text, \"html.parser\")\n",
    "        quotes = soup.find_all(class_=\"quote\")\n",
    "\n",
    "        for quote in quotes:\n",
    "            all_quotes.append({\n",
    "                \"text\":quote.find(class_=\"text\").get_text(),\n",
    "                \"author\":quote.find(class_=\"author\").get_text(),\n",
    "                \"bio-link\":quote.find(\"a\")['href']\n",
    "                })\n",
    "        next_pg = soup.find(class_= 'next')\n",
    "        url = next_pg.find(\"a\")[\"href\"] if next_pg else None\n",
    "        sleep(1)\n",
    "    return all_quotes\n",
    "\n",
    "quotes = scrape_quotes()\n",
    "#write quotes to csv file\n",
    "def write_quotes(quotes):\n",
    "    with open(\"quotes.csv\", \"w\") as file:\n",
    "        headers = ['text','author','bio-link']\n",
    "        csv_writer = DictWriter(file, fieldnames= headers)\n",
    "        csv_writer.writeheader()\n",
    "        for quote in quotes:\n",
    "            csv_writer.writerow(quote)\n",
    "        "
   ]
  },
  {
   "cell_type": "code",
   "execution_count": 5,
   "metadata": {},
   "outputs": [
    {
     "name": "stdout",
     "output_type": "stream",
     "text": [
      "Here's a quote:\n",
      "“A reader lives a thousand lives before he dies, said Jojen. The man who never reads lives only one.”\n",
      "Who said this quote? Guesses remaining: 4rggf\n",
      "Here's a hint: The author was born on September 20, 1948 in Bayonne, New Jersey, The United States\n",
      "Who said this quote? Guesses remaining: 3gf\n",
      "Here's a hint: The author's first name starts with: G\n",
      "Who said this quote? Guesses remaining: 2dfgh\n",
      "Here's a hint: The author's first name starts with: R\n",
      "Who said this quote? Guesses remaining: 1d\n",
      "Sorry you ran outh of guesses. The answer was George R.R. Martin\n",
      "Would you like to play again (y/n)?n\n",
      "Ok Goodbye\n"
     ]
    }
   ],
   "source": [
    "def read_quotes(filename):\n",
    "    with open(filename, 'r') as file:\n",
    "        csv_reader = DictReader(file)\n",
    "        return list(csv_reader)\n",
    "\n",
    "def start_game(quotes):\n",
    "    quote = choice(quotes)\n",
    "\n",
    "    remaining_guesses = 4\n",
    "\n",
    "    print(\"Here's a quote:\")\n",
    "    print(quote[\"text\"])\n",
    "\n",
    "\n",
    "    guess = ''\n",
    "\n",
    "    while guess.lower() != quote['author'].lower() and remaining_guesses > 0:\n",
    "        guess = input(f\"Who said this quote? Guesses remaining: {remaining_guesses}\")\n",
    "        remaining_guesses -= 1\n",
    "        if guess.lower() == quote['author'].lower():\n",
    "            print(\"YOU GOT IT RIGHT!\")\n",
    "            break\n",
    "        if remaining_guesses == 3:\n",
    "            res = requests.get(f\"{base_url}{quote['bio-link']}\")\n",
    "            soup = BeautifulSoup(res.text, 'html.parser')\n",
    "            birth_date = soup.find(class_=\"author-born-date\").get_text()\n",
    "            birth_place = soup.find(class_=\"author-born-location\").get_text()\n",
    "            print(f\"Here's a hint: The author was born on {birth_date} {birth_place}\")\n",
    "        elif remaining_guesses == 2:\n",
    "            print(f\"Here's a hint: The author's first name starts with: {quote['author'][0]}\")\n",
    "        elif remaining_guesses==1:\n",
    "            last_initial = quote['author'].split(\" \")[1][0]\n",
    "            print(f\"Here's a hint: The author's first name starts with: {last_initial}\")\n",
    "        else:\n",
    "            print(f\"Sorry you ran outh of guesses. The answer was {quote['author']}\")\n",
    "\n",
    "    again = ''\n",
    "    while again.lower() not in ('y', 'yes', 'n', 'no'):\n",
    "        again = input(\"Would you like to play again (y/n)?\")\n",
    "\n",
    "    if again.lower() in ('yes', 'y'):\n",
    "        print(\"Ok YOU PLAY AGAIN\\n\")\n",
    "        return start_game()\n",
    "    else:\n",
    "        print('Ok Goodbye')\n",
    "\n",
    "\n",
    "quotes = read_quotes(\"quotes.csv\")\n",
    "start_game(quotes)"
   ]
  },
  {
   "cell_type": "code",
   "execution_count": 8,
   "metadata": {},
   "outputs": [
    {
     "name": "stdout",
     "output_type": "stream",
     "text": [
      "Here's a quote:\n",
      "“He's like a drug for you, Bella.”\n",
      "Who said this quote? Guesses remaining: 4dgs\n",
      "Here's a hint: The author was born on December 24, 1973 in Connecticut, The United States\n",
      "Who said this quote? Guesses remaining: 3dfs\n",
      "Here's a hint: The author's first name starts with: S\n",
      "Who said this quote? Guesses remaining: 2dfg\n",
      "Here's a hint: The author's first name starts with: M\n",
      "Who said this quote? Guesses remaining: 1dsg\n",
      "Sorry you ran outh of guesses. The answer was Stephenie Meyer\n",
      "Would you like to play again (y/n)?n\n",
      "Ok Goodbye\n"
     ]
    }
   ],
   "source": [
    "quotes = read_quotes(\"quotes.csv\")\n",
    "start_game(quotes)"
   ]
  },
  {
   "cell_type": "code",
   "execution_count": null,
   "metadata": {},
   "outputs": [],
   "source": []
  }
 ],
 "metadata": {
  "kernelspec": {
   "display_name": "Python 3",
   "language": "python",
   "name": "python3"
  },
  "language_info": {
   "codemirror_mode": {
    "name": "ipython",
    "version": 3
   },
   "file_extension": ".py",
   "mimetype": "text/x-python",
   "name": "python",
   "nbconvert_exporter": "python",
   "pygments_lexer": "ipython3",
   "version": "3.8.3"
  }
 },
 "nbformat": 4,
 "nbformat_minor": 4
}
